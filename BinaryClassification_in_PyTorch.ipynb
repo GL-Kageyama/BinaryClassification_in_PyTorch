{
 "cells": [
  {
   "cell_type": "code",
   "execution_count": 1,
   "metadata": {},
   "outputs": [],
   "source": [
    "import numpy as np\n",
    "import torch\n",
    "import torch.nn.functional as F\n",
    "from torch.autograd import Variable\n",
    "import matplotlib.pyplot as plt\n",
    "%matplotlib inline"
   ]
  },
  {
   "cell_type": "code",
   "execution_count": 2,
   "metadata": {},
   "outputs": [],
   "source": [
    "np.random.seed(2020)\n",
    "\n",
    "N = 100\n",
    "D = 2\n",
    "\n",
    "X = np.random.randn(N, D)*2\n",
    "\n",
    "# The center of the group A is (-2, -2)\n",
    "X[:N//2, :] = X[:N//2, :] - 2*np.ones((N//2, D))\n",
    "# The center of the group B is (2, 2)\n",
    "X[N//2:, :] = X[N//2:, :] + 2*np.ones((N//2, D))\n",
    "#  group A : 0\n",
    "#  group B : 1\n",
    "T = np.array([0]*(N//2) + [1]*(N//2)).reshape(100, 1)\n",
    "\n",
    "x_data = Variable(torch.Tensor(X))\n",
    "y_data = Variable(torch.Tensor(T))"
   ]
  },
  {
   "cell_type": "code",
   "execution_count": 3,
   "metadata": {},
   "outputs": [],
   "source": [
    "class Model(torch.nn.Module):\n",
    "    def __init__(self):\n",
    "        super(Model, self).__init__()\n",
    "        self.linear = torch.nn.Linear(2, 1)\n",
    "        \n",
    "    def forward(self, x):\n",
    "        y_pred = F.sigmoid(self.linear(x))\n",
    "        return y_pred"
   ]
  },
  {
   "cell_type": "code",
   "execution_count": 5,
   "metadata": {},
   "outputs": [],
   "source": [
    "model = Model()\n",
    "criterion = torch.nn.BCELoss(size_average=True)\n",
    "optimizer = torch.optim.SGD(model.parameters(), lr=0.01)"
   ]
  },
  {
   "cell_type": "code",
   "execution_count": 7,
   "metadata": {},
   "outputs": [
    {
     "name": "stdout",
     "output_type": "stream",
     "text": [
      "0  :  0.18669039011001587\n",
      "1  :  0.1866801679134369\n",
      "2  :  0.1866699755191803\n",
      "3  :  0.18665987253189087\n",
      "4  :  0.18664981424808502\n",
      "5  :  0.1866396963596344\n",
      "6  :  0.18662957847118378\n",
      "7  :  0.1866195648908615\n",
      "8  :  0.18660952150821686\n",
      "9  :  0.1865995228290558\n",
      "990  :  0.1821126788854599\n",
      "991  :  0.18211066722869873\n",
      "992  :  0.18210874497890472\n",
      "993  :  0.1821068376302719\n",
      "994  :  0.18210487067699432\n",
      "995  :  0.1821029633283615\n",
      "996  :  0.18210098147392273\n",
      "997  :  0.1820990890264511\n",
      "998  :  0.1820971667766571\n",
      "999  :  0.18209519982337952\n"
     ]
    }
   ],
   "source": [
    "for epoch in range(1000):\n",
    "    y_pred = model(x_data)\n",
    "    \n",
    "    loss = criterion(y_pred, y_data)\n",
    "    \n",
    "    if (epoch < 10):\n",
    "        print(epoch, ' : ', loss.data.item())\n",
    "    elif(989 < epoch):\n",
    "        print(epoch, ' : ', loss.data.item())\n",
    "    \n",
    "    # Set the zero gradient, and calculate the weight.\n",
    "    optimizer.zero_grad()\n",
    "    loss.backward()\n",
    "    optimizer.step()"
   ]
  },
  {
   "cell_type": "code",
   "execution_count": 8,
   "metadata": {},
   "outputs": [
    {
     "name": "stdout",
     "output_type": "stream",
     "text": [
      "============================\n",
      "Data :  tensor([[0.9271, 1.1032]])\n",
      "Grad :  tensor([[-0.0057, -0.0064]])\n",
      "============================\n",
      "Data :  tensor([0.0197])\n",
      "Grad :  tensor([0.0110])\n"
     ]
    }
   ],
   "source": [
    "for f in model.parameters():\n",
    "    print('============================')\n",
    "    print('Data : ', f.data)\n",
    "    print('Grad : ', f.grad)"
   ]
  },
  {
   "cell_type": "code",
   "execution_count": 9,
   "metadata": {},
   "outputs": [],
   "source": [
    "w = list(model.parameters())\n",
    "w0 = w[0].data.numpy()\n",
    "w1 = w[1].data.numpy()"
   ]
  },
  {
   "cell_type": "code",
   "execution_count": 10,
   "metadata": {},
   "outputs": [
    {
     "name": "stdout",
     "output_type": "stream",
     "text": [
      " === Final Gradient Descend === \n",
      "[Parameter containing:\n",
      "tensor([[0.9271, 1.1032]], requires_grad=True), Parameter containing:\n",
      "tensor([0.0197], requires_grad=True)]\n"
     ]
    }
   ],
   "source": [
    "print(' === Final Gradient Descend === ')\n",
    "print(w)"
   ]
  },
  {
   "cell_type": "code",
   "execution_count": 11,
   "metadata": {},
   "outputs": [
    {
     "data": {
      "image/png": "[encoded data removed]",
      "text/plain": [
       "<Figure size 432x288 with 1 Axes>"
      ]
     },
     "metadata": {
      "needs_background": "light"
     },
     "output_type": "display_data"
    }
   ],
   "source": [
    "# Group A and Group B are drawn\n",
    "plt.scatter(X[:, 0], X[:, 1], c=T.reshape(N), s=20, cmap='bwr')\n",
    "\n",
    "x_axis = np.linspace(-6, 6, 100)\n",
    "y_axis = -(w1[0] + x_axis*w0[0][0]) / w0[0][1]\n",
    "\n",
    "# Drawing a border\n",
    "line_up = plt.plot(x_axis, y_axis, 'r-', color='orange', linewidth=2)\n",
    "plt.show()"
   ]
  },
  {
   "cell_type": "code",
   "execution_count": null,
   "metadata": {},
   "outputs": [],
   "source": []
  }
 ],
 "metadata": {
  "kernelspec": {
   "display_name": "Python 3",
   "language": "python",
   "name": "python3"
  },
  "language_info": {
   "codemirror_mode": {
    "name": "ipython",
    "version": 3
   },
   "file_extension": ".py",
   "mimetype": "text/x-python",
   "name": "python",
   "nbconvert_exporter": "python",
   "pygments_lexer": "ipython3",
   "version": "3.6.9"
  }
 },
 "nbformat": 4,
 "nbformat_minor": 2
}
